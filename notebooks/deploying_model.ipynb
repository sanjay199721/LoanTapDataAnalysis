{
 "cells": [
  {
   "cell_type": "code",
   "execution_count": 64,
   "id": "48607c0d",
   "metadata": {},
   "outputs": [],
   "source": [
    "# Importing Required Libraries for Analysis and Modeling\n",
    "import pandas as pd\n",
    "import matplotlib.pyplot as plt\n",
    "import seaborn as sns\n",
    "import numpy as np\n",
    "from sklearn.model_selection import train_test_split,StratifiedKFold,RandomizedSearchCV\n",
    "from sklearn.preprocessing import OrdinalEncoder,LabelEncoder,OneHotEncoder,StandardScaler\n",
    "from sklearn.impute import KNNImputer,SimpleImputer\n",
    "from sklearn.linear_model import LogisticRegression\n",
    "from statsmodels.stats.outliers_influence import variance_inflation_factor\n",
    "from collections import Counter \n",
    "from sklearn.feature_selection import RFECV\n",
    "from scipy.stats import uniform, loguniform\n",
    "from sklearn.metrics import roc_auc_score, confusion_matrix,fbeta_score,make_scorer, precision_recall_curve,average_precision_score,roc_curve,classification_report\n",
    "import datetime\n",
    "from pandas.tseries.offsets import DateOffset\n",
    "from sklearn.inspection import permutation_importance\n",
    "from imblearn.over_sampling import SMOTENC\n",
    "from scipy.sparse import hstack  \n",
    "import pickle\n",
    "from sklearn.compose import ColumnTransformer\n",
    "from sklearn.pipeline import Pipeline\n",
    "from sklearn.preprocessing import FunctionTransformer"
   ]
  },
  {
   "cell_type": "code",
   "execution_count": 65,
   "id": "3a7d2bb3",
   "metadata": {},
   "outputs": [],
   "source": [
    "df = pd.read_csv('loan_tap_dataset.csv')"
   ]
  },
  {
   "cell_type": "code",
   "execution_count": 66,
   "id": "be073a6f",
   "metadata": {},
   "outputs": [],
   "source": [
    "# Applying train test split before EDA. As its a imbalanced classification with stratification\n",
    "X_train_validation, X_test, y_train_validation, y_test = train_test_split(df.drop(['loan_status'],axis = 1),df['loan_status'],random_state=40,test_size=0.2,stratify=df['loan_status'])"
   ]
  },
  {
   "cell_type": "code",
   "execution_count": 67,
   "id": "2a6c14f1",
   "metadata": {},
   "outputs": [],
   "source": [
    "# Splitting into validation and training sets\n",
    "X_train,X_validation,y_train,y_validation = train_test_split(X_train_validation,y_train_validation,random_state=40,test_size=0.2,stratify=y_train_validation)\n"
   ]
  },
  {
   "cell_type": "code",
   "execution_count": null,
   "id": "a60ba835",
   "metadata": {},
   "outputs": [],
   "source": [
    "# Label encoding on y_train - loan status\n",
    "y_encoder = LabelEncoder( )\n",
    "y_encoder.fit(y_train)\n",
    "y_encoder.classes_= np.array(['Fully Paid','Charged Off'])\n",
    "y_train_encoded = y_encoder.transform(y_train[X_train.index])\n",
    "\n",
    "\n",
    "revol_util_median = X_train['revol_util'].quantile(0.5)\n",
    "revol_util_imputed = X_train['revol_util'].fillna(revol_util_median)\n",
    "k = 1000\n",
    "title_words_freq = pd.Series(Counter(' '.join(list(X_train['title'].dropna().apply(lambda x: x.lower()))).split())).sort_values(ascending=False)\n",
    "title_word_rank = title_words_freq.iloc[:k].reset_index().reset_index().set_index('index')['level_0']\n",
    "def title_check(x):\n",
    "    z = [title_word_rank.get(i,k+1) for i in x.lower().split()]\n",
    "    return min(z)\n",
    "k = 1000\n",
    "emp_title_words_freq = pd.Series(Counter(' '.join(list(X_train['emp_title'].fillna('missing').apply(lambda x: x.lower()))).split())).sort_values(ascending=False)\n",
    "emp_title_word_rank = emp_title_words_freq.iloc[:k].reset_index().reset_index().set_index('index')['level_0']\n",
    "def emp_title_check(x):\n",
    "    z = [emp_title_word_rank.get(i,k+1) for i in x.lower().split()]\n",
    "    return min(z)\n",
    "\n",
    "# Update your functions to work with individual values:\n",
    "def extract_quarter_single(date_str):\n",
    "    \"\"\"Extract quarter from a single date string\"\"\"\n",
    "    try:\n",
    "        period = pd.to_datetime(date_str, format='%b-%Y').to_period('Q')\n",
    "        return period.ordinal\n",
    "    except:\n",
    "        return None\n",
    "\n",
    "def extract_month_single(date_str):\n",
    "    \"\"\"Extract month from a single date string\"\"\"\n",
    "    try:\n",
    "        return pd.to_datetime(date_str, format='%b-%Y').month\n",
    "    except:\n",
    "        return None\n",
    "def emp_len_bin(x):\n",
    "    if x < 1.5:\n",
    "        return '1 yr'\n",
    "    if 1.5 <= x < 7.5 :\n",
    "        return '2-7 yrs'\n",
    "    if 7.5 <= x < 9.5:\n",
    "        return '8-9 yrs'\n",
    "    if x >= 9.5 :\n",
    "        return '10+ yrs'\n",
    "def empl_length_num_single(emp_length_str):\n",
    "    \"\"\"Convert employment length string to numeric for a single value\"\"\"\n",
    "    # You'll need to adapt your original empl_length_num function here\n",
    "    # This is just an example - replace with your actual logic\n",
    "    if pd.isna(emp_length_str):\n",
    "        return None\n",
    "    elif '10+' in str(emp_length_str):\n",
    "        return 10\n",
    "    elif '<' in str(emp_length_str):\n",
    "        return 0\n",
    "    else:\n",
    "        return int(str(emp_length_str).split()[0])\n",
    "def purpose_bin(val):\n",
    "    if val in ['credit_card','home_improvement','major_purchase','educational','wedding','car','vacation','house']:\n",
    "        return 'family'\n",
    "    else:\n",
    "        if val != 'small_business' :\n",
    "            return 'other'\n",
    "        else :\n",
    "            return 'small_business'\n",
    "           \n",
    "def purpose_apply(x):\n",
    "    return x.iloc[:, 0].apply(purpose_bin).to_frame()\n",
    "\n",
    "def home_own_bin(val):\n",
    "    if val not in ['MORTGAGE','OWN','RENT']:\n",
    "        return 'RENT' \n",
    "    else:\n",
    "        return val\n",
    "def zip_extract(x):\n",
    "    return x.iloc[:, 0].str.split().str[-1].to_frame()\n",
    "# Updated DataFrame wrapper functions:\n",
    "def extract_quarter_df(x):\n",
    "    return x.iloc[:, 0].apply(extract_quarter_single).to_frame()\n",
    "\n",
    "def extract_month_df(x):\n",
    "    return x.iloc[:, 0].apply(extract_month_single).to_frame()\n",
    "\n",
    "def empl_length_num_df(x):\n",
    "    return x.iloc[:, 0].apply(empl_length_num_single).to_frame()\n",
    "\n",
    "def home_ownership_cleanup_df(x):\n",
    "    return x.iloc[:, 0].apply(home_own_bin).to_frame()\n",
    "\n",
    "def title_check_df(x):\n",
    "    return x.iloc[:, 0].fillna('debt').apply(title_check).to_frame()\n",
    "\n",
    "def emp_title_check_df(x):\n",
    "    return x.iloc[:, 0].fillna('missing').apply(emp_title_check).to_frame()\n",
    "def emp_bin_ext(x):\n",
    "    return pd.DataFrame(x).iloc[:, 0].apply(emp_len_bin).to_frame()\n",
    "def clip_trans(x,upper = None,lower = None):\n",
    "    return x.iloc[:, 0].clip(upper,lower).to_frame()\n",
    "def clip_trans_df(x,upper=None,lower = None):\n",
    "    return pd.DataFrame(x).iloc[:, 0].clip(upper,lower).to_frame()\n",
    "# Your pipeline remains the same:\n",
    "final_pipe = Pipeline([\n",
    "    ('preprocessing', ColumnTransformer(transformers=[\n",
    "        ('zipcode', Pipeline([\n",
    "            ('zipcode', FunctionTransformer(zip_extract,feature_names_out='zipcode')),\n",
    "            ('onehot', OneHotEncoder(sparse_output=False, drop='first'))\n",
    "        ]), ['address']),\n",
    "        ('term', OneHotEncoder(sparse_output=False, drop='first'), ['term']),\n",
    "        ('homeownership', Pipeline([\n",
    "            ('home_ownership_cleanup', FunctionTransformer(home_ownership_cleanup_df)),\n",
    "            ('home_encoding', OneHotEncoder(sparse_output=False, drop='first'))\n",
    "        ]), ['home_ownership']),\n",
    "        ('verif_st', OneHotEncoder(sparse_output=False, drop='first'), ['verification_status']),\n",
    "        ('emp_length', Pipeline([\n",
    "            ('emp_len_num', FunctionTransformer(empl_length_num_df)),\n",
    "            ('emp_imp', KNNImputer(n_neighbors=1)),\n",
    "            ('emp_bin',FunctionTransformer(emp_bin_ext)),\n",
    "            ('emp_len_oh',OneHotEncoder(sparse_output=False,drop='first'))\n",
    "        ]), ['emp_length']),\n",
    "        ('loan_amnt', FunctionTransformer(clip_trans , kw_args={\"upper\" :38000}), ['loan_amnt']),\n",
    "        ('int_rate', 'passthrough', ['int_rate']),\n",
    "        ('open_acc', FunctionTransformer(clip_trans , kw_args={\"upper\" :23}), ['open_acc']),\n",
    "        ('total_acc', FunctionTransformer(clip_trans , kw_args={\"upper\" :54}), ['total_acc']),\n",
    "        ('annual_inc', FunctionTransformer(clip_trans , kw_args={\"upper\" :150000}), ['annual_inc']),\n",
    "        ('revol_bal', FunctionTransformer(clip_trans , kw_args={\"upper\" :40000}), ['revol_bal']),\n",
    "        ('dti', FunctionTransformer(clip_trans , kw_args={\"upper\" :40,\"lower\":0}), ['dti']),\n",
    "        ('revol_util',Pipeline([\n",
    "            ('revol_util_imp', SimpleImputer(strategy='constant',fill_value=revol_util_median)),\n",
    "            ('revol_util_clip', FunctionTransformer(clip_trans_df , kw_args={\"upper\" :129,\"lower\":0}))\n",
    "        ]), ['revol_util']),\n",
    "        ('purpose', Pipeline([\n",
    "            (\"group_purpose\", FunctionTransformer(purpose_apply)),\n",
    "            ('purpose_encoding', OneHotEncoder(sparse_output=False, drop='first'))\n",
    "        ]), ['purpose']),\n",
    "        ('issue_qtr', FunctionTransformer(extract_quarter_df), ['issue_d']),\n",
    "        ('issue_month', FunctionTransformer(extract_month_df), ['issue_d']),\n",
    "        ('mort_acc', Pipeline([\n",
    "            ('mort_acc_imp', KNNImputer(n_neighbors=1)),\n",
    "            ('mort_acc_clip',FunctionTransformer(clip_trans_df , kw_args={\"upper\" :7}))\n",
    "        ]), ['mort_acc']),\n",
    "        ('pub_rec', FunctionTransformer(clip_trans , kw_args={\"upper\" :1}), ['pub_rec']),\n",
    "        ('earliest_cr_qtr', FunctionTransformer(extract_quarter_df), ['earliest_cr_line'])\n",
    "    ], remainder='drop')),\n",
    "    ('scaler', StandardScaler()),\n",
    "    ('logistic_reg', LogisticRegression(\n",
    "        C=np.float64(0.00025502648504032837),\n",
    "        class_weight={0: 1, 1: 5}, \n",
    "        max_iter=1000, \n",
    "        penalty=None\n",
    "    ))\n",
    "])"
   ]
  },
  {
   "cell_type": "code",
   "execution_count": 69,
   "id": "ec0fb7e7",
   "metadata": {},
   "outputs": [
    {
     "name": "stderr",
     "output_type": "stream",
     "text": [
      "c:\\Users\\sanju\\Downloads\\Project_work\\LoanTapAnalysis\\LoanTapDataAnalysis\\venv\\Lib\\site-packages\\sklearn\\linear_model\\_logistic.py:1207: UserWarning: Setting penalty=None will ignore the C and l1_ratio parameters\n",
      "  warnings.warn(\n"
     ]
    }
   ],
   "source": [
    "try:\n",
    "    final_pipe.fit(X_train, y_train_encoded)  # or whatever data you're using\n",
    "except Exception as e:\n",
    "    import traceback\n",
    "    traceback.print_exc()\n"
   ]
  },
  {
   "cell_type": "code",
   "execution_count": 70,
   "id": "9748382a",
   "metadata": {},
   "outputs": [],
   "source": [
    "y_predicted = final_pipe.predict(X_test)"
   ]
  },
  {
   "cell_type": "code",
   "execution_count": 71,
   "id": "f2ff6296",
   "metadata": {},
   "outputs": [
    {
     "name": "stdout",
     "output_type": "stream",
     "text": [
      "              precision    recall  f1-score   support\n",
      "\n",
      "           0       0.95      0.75      0.84     63671\n",
      "           1       0.45      0.85      0.59     15535\n",
      "\n",
      "    accuracy                           0.77     79206\n",
      "   macro avg       0.70      0.80      0.71     79206\n",
      "weighted avg       0.85      0.77      0.79     79206\n",
      "\n"
     ]
    }
   ],
   "source": [
    "print(classification_report(y_encoder.transform(y_test),y_predicted))"
   ]
  },
  {
   "cell_type": "code",
   "execution_count": 72,
   "id": "ec47c39e",
   "metadata": {},
   "outputs": [
    {
     "name": "stdout",
     "output_type": "stream",
     "text": [
      "              precision    recall  f1-score   support\n",
      "\n",
      "           0       0.95      0.75      0.84    203749\n",
      "           1       0.45      0.85      0.59     49710\n",
      "\n",
      "    accuracy                           0.77    253459\n",
      "   macro avg       0.70      0.80      0.71    253459\n",
      "weighted avg       0.85      0.77      0.79    253459\n",
      "\n"
     ]
    }
   ],
   "source": [
    "print(classification_report(y_encoder.transform(y_train),final_pipe.predict(X_train)))"
   ]
  },
  {
   "cell_type": "code",
   "execution_count": 73,
   "id": "212b67da",
   "metadata": {},
   "outputs": [
    {
     "data": {
      "text/plain": [
       "['pipeline_1.joblib']"
      ]
     },
     "execution_count": 73,
     "metadata": {},
     "output_type": "execute_result"
    }
   ],
   "source": [
    "import joblib\n",
    "# Save entire pipeline (including preprocessing)\n",
    "joblib.dump(final_pipe, 'pipeline_1.joblib')"
   ]
  },
  {
   "cell_type": "code",
   "execution_count": 24,
   "id": "abb9fe42",
   "metadata": {},
   "outputs": [
    {
     "name": "stdout",
     "output_type": "stream",
     "text": [
      " * Serving Flask app '__main__'\n",
      " * Debug mode: on\n"
     ]
    },
    {
     "name": "stderr",
     "output_type": "stream",
     "text": [
      "WARNING: This is a development server. Do not use it in a production deployment. Use a production WSGI server instead.\n",
      " * Running on http://127.0.0.1:5000\n",
      "Press CTRL+C to quit\n",
      " * Restarting with stat\n"
     ]
    },
    {
     "ename": "SystemExit",
     "evalue": "1",
     "output_type": "error",
     "traceback": [
      "An exception has occurred, use %tb to see the full traceback.\n",
      "\u001b[1;31mSystemExit\u001b[0m\u001b[1;31m:\u001b[0m 1\n"
     ]
    }
   ],
   "source": [
    "from flask import Flask\n",
    "app = Flask(__name__)\n",
    "\n",
    "@app.route('/')\n",
    "def hello():\n",
    "    return \"Hello World!\"\n",
    "\n",
    "if __name__ == '__main__':\n",
    "    app.run(debug=True)"
   ]
  },
  {
   "cell_type": "code",
   "execution_count": null,
   "id": "b05b5991",
   "metadata": {},
   "outputs": [],
   "source": []
  }
 ],
 "metadata": {
  "kernelspec": {
   "display_name": "venv",
   "language": "python",
   "name": "python3"
  },
  "language_info": {
   "codemirror_mode": {
    "name": "ipython",
    "version": 3
   },
   "file_extension": ".py",
   "mimetype": "text/x-python",
   "name": "python",
   "nbconvert_exporter": "python",
   "pygments_lexer": "ipython3",
   "version": "3.12.4"
  }
 },
 "nbformat": 4,
 "nbformat_minor": 5
}
