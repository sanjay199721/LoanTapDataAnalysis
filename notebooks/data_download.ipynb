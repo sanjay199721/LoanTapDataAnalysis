{
 "cells": [
  {
   "cell_type": "code",
   "execution_count": 1,
   "id": "ed19594c",
   "metadata": {},
   "outputs": [
    {
     "name": "stderr",
     "output_type": "stream",
     "text": [
      "Downloading...\n",
      "From: https://drive.google.com/uc?id=1MJTdMjq6qA3mCAblG-AAZFKt9luX3jia\n",
      "To: c:\\Users\\sanju\\Downloads\\Project_work\\LoanTapAnalysis\\LoanTapDataAnalysis\\notebooks\\loan_tap_dataset.csv\n",
      "100%|██████████| 100M/100M [00:11<00:00, 8.86MB/s] \n"
     ]
    },
    {
     "data": {
      "text/plain": [
       "'loan_tap_dataset.csv'"
      ]
     },
     "execution_count": 1,
     "metadata": {},
     "output_type": "execute_result"
    }
   ],
   "source": [
    "import gdown\n",
    "\n",
    "file_link = \"https://drive.google.com/uc?id=1MJTdMjq6qA3mCAblG-AAZFKt9luX3jia\"\n",
    "output_file = \"loan_tap_dataset.csv\" \n",
    "\n",
    "gdown.download(file_link, output_file, quiet=False)"
   ]
  },
  {
   "cell_type": "code",
   "execution_count": null,
   "id": "d51cb03c",
   "metadata": {},
   "outputs": [],
   "source": []
  }
 ],
 "metadata": {
  "kernelspec": {
   "display_name": "venv",
   "language": "python",
   "name": "python3"
  },
  "language_info": {
   "codemirror_mode": {
    "name": "ipython",
    "version": 3
   },
   "file_extension": ".py",
   "mimetype": "text/x-python",
   "name": "python",
   "nbconvert_exporter": "python",
   "pygments_lexer": "ipython3",
   "version": "3.12.4"
  }
 },
 "nbformat": 4,
 "nbformat_minor": 5
}
